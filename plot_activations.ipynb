{
 "cells": [
  {
   "cell_type": "code",
   "execution_count": 212,
   "metadata": {},
   "outputs": [
    {
     "name": "stderr",
     "output_type": "stream",
     "text": [
      "100%|██████████| 25/25 [00:05<00:00,  4.47it/s]\n"
     ]
    },
    {
     "data": {
      "image/png": "[encoded data removed]",
      "text/plain": [
       "<Figure size 640x480 with 1 Axes>"
      ]
     },
     "metadata": {},
     "output_type": "display_data"
    },
    {
     "data": {
      "text/plain": [
       "<matplotlib.image.AxesImage at 0x705d3873a590>"
      ]
     },
     "execution_count": 212,
     "metadata": {},
     "output_type": "execute_result"
    },
    {
     "data": {
      "image/png": "[encoded data removed]",
      "text/plain": [
       "<Figure size 640x480 with 1 Axes>"
      ]
     },
     "metadata": {},
     "output_type": "display_data"
    }
   ],
   "source": [
    "import flax.linen as nn\n",
    "import jax.numpy as jnp\n",
    "import jax \n",
    "import optax\n",
    "from functools import partial\n",
    "from jax.nn.initializers import variance_scaling,he_normal,he_uniform,glorot_normal,glorot_uniform\n",
    "\n",
    "@partial(jax.grad,argnums=1)\n",
    "def get_grad(activation,x,target,feature_sizes,weights):\n",
    "    for f,w in zip(feature_sizes,weights):\n",
    "        x = nn.Dense(f).apply(w,activation(x))\n",
    "    return jnp.mean(optax.softmax_cross_entropy_with_integer_labels(logits=x,labels=target))\n",
    "\n",
    "def get_heatmaps(key,activation_fn,initializer,input_size,feature_sizes):\n",
    "    \n",
    "    weight_init_key, input_key,target_key = jax.random.split(key,num=3)\n",
    "\n",
    "    model = nn.Sequential([nn.Dense(size,kernel_init=initializer,bias_init=jax.nn.initializers.constant(0)) for size in feature_sizes])\n",
    "    weights = model.init(weight_init_key,jnp.zeros((1,input_size)))\n",
    "    weights = [{\"params\" : weights[\"params\"][key]} for key in weights[\"params\"].keys()]\n",
    "\n",
    "    input_var = jax.random.normal(input_key,shape=(1000,input_size))\n",
    "    target_var = jax.random.randint(target_key,shape=(1000,),minval=0,maxval=feature_sizes[-1])\n",
    "\n",
    "    activations = []\n",
    "    gradients = []\n",
    "\n",
    "    x = nn.Dense(feature_sizes[0]).apply(weights[0],input_var)\n",
    "    activations.append(x)\n",
    "    for f,w in zip(feature_sizes[1:],weights[1:]):\n",
    "        x = nn.Dense(f).apply(w,activation_fn(x))\n",
    "        activations.append(x)\n",
    "\n",
    "    for a,i in zip(activations,range(len(feature_sizes))):\n",
    "        g = get_grad(activation_fn,a,target_var,feature_sizes[i+1:],weights[i+1:])\n",
    "        gradients.append(g)\n",
    "\n",
    "    activations = [jnp.pad(x,((0,0),(int((max(feature_sizes)-x.shape[1])/2),int((max(feature_sizes)-x.shape[1])/2)))) for x in activations]\n",
    "\n",
    "    ####\n",
    "    #activations = [activation(x) for x in activations]\n",
    "    #####\n",
    "\n",
    "    gradients = [jnp.pad(x,((0,0),(int((max(feature_sizes)-x.shape[1])/2),int((max(feature_sizes)-x.shape[1])/2)))) for x in gradients]\n",
    "\n",
    "    return jnp.var(jnp.stack(activations,axis=0),axis=1).T,jnp.var(jnp.stack(gradients,axis=0),axis=1).T\n",
    "\n",
    "x_l = []\n",
    "gx_l = []\n",
    "from tqdm import tqdm\n",
    "\n",
    "activation = nn.relu\n",
    "activation_str = \"relu\"\n",
    "\n",
    "init = variance_scaling(2, \"fan_in\", \"normal\")\n",
    "init_str = \"Kaiming_fan_in\"\n",
    "\n",
    "input_size = 64\n",
    "#feature_sizes = [64,64,64,64,64,64,64,64,64,10]\n",
    "feature_sizes = [64,64-8,64-16,64-24,64-32,64-40,64-48,64-56,64-60,10]\n",
    "#feature_sizes = [64,64+8,64+16,64+24,64+32,64+40,64+48,64+56,64+60,10]\n",
    "#feature_sizes = [256,128,64,32,10]\n",
    "\n",
    "for key in tqdm(jax.random.split(jax.random.key(523532),25)):\n",
    "    x,gx = get_heatmaps(key,activation,init,input_size,feature_sizes)\n",
    "    x_l.append(x)\n",
    "    gx_l.append(gx)\n",
    "\n",
    "\n",
    "x = jnp.mean(jnp.stack(x_l),axis=0)\n",
    "x = (x - jnp.min(x))/(jnp.max(x)-jnp.min(x))\n",
    "\n",
    "gx = jnp.mean(jnp.stack(gx_l),axis=0)\n",
    "gx = (gx - jnp.min(gx))/(jnp.max(gx)-jnp.min(gx))\n",
    "\n",
    "x_mean = jnp.max(x,axis=0)\n",
    "gx_mean = jnp.max(gx,axis=0)\n",
    "x = jnp.repeat(jnp.expand_dims(x,axis=-1),10,axis=-1).reshape((x.shape[0],-1))\n",
    "gx = jnp.repeat(jnp.expand_dims(gx,axis=-1),10,axis=-1).reshape((gx.shape[0],-1))\n",
    "import matplotlib.pyplot as plt\n",
    "plt.axis('off')\n",
    "plt.title(\"activations\" + \"\\n\" + activation_str + \" with \" + init_str)\n",
    "plt.imshow(x, vmin=0, vmax=1,cmap=plt.get_cmap('gray'))\n",
    "#plt.savefig(\"./activations\" + \"_\" + activation_str + \" with \" + init_str + \"_ input: \" + str(input_size)+ \" and features: \" + str(feature_sizes)+ \".jpg\",dpi=300)\n",
    "\n",
    "plt.show()\n",
    "\n",
    "plt.axis('off')\n",
    "plt.title(\"gradients of activations\" + \"\\n\" + activation_str + \" with \" + init_str)\n",
    "plt.imshow(gx, vmin=0, vmax=1,cmap=plt.get_cmap('gray'))\n",
    "#plt.savefig(\"./gradients of activations\" + \"_\" + activation_str + \" with \" + init_str + \"_ input: \" + str(input_size)+ \" and features: \" + str(feature_sizes)+ \".jpg\",dpi=300)\n"
   ]
  }
 ],
 "metadata": {
  "kernelspec": {
   "display_name": "ml_cpu",
   "language": "python",
   "name": "python3"
  },
  "language_info": {
   "codemirror_mode": {
    "name": "ipython",
    "version": 3
   },
   "file_extension": ".py",
   "mimetype": "text/x-python",
   "name": "python",
   "nbconvert_exporter": "python",
   "pygments_lexer": "ipython3",
   "version": "3.11.5"
  }
 },
 "nbformat": 4,
 "nbformat_minor": 2
}
